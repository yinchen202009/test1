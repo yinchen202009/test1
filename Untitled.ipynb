{
 "cells": [
  {
   "cell_type": "markdown",
   "metadata": {},
   "source": [
    "# Understanding Riboswitches\n",
    "\n",
    "## Will the\tAND-1 riboswitch cleave\titself when both of its OBS are bound?\n",
    "Yes it will, only when **both** of its OBS are bound.\n",
    "\n",
    "## Will\tthe\tOR-1 riboswitch\tcleave\titself\twhen neither of\tits\tOBS\tare\tbound?\n",
    "Yes it will. It can only self-cleave when **at least one** of its OBS is bound.\n",
    "\n",
    "## What\tbehavior\tdo\twe\texpect\tfrom\tthe\tYES-1\triboswitch?\n",
    "The hammerhead structure of the ribozyme will carry out self-cleavage only if the effector DNA strand is completely complementary and bing to the OBS. In other words, TRUE input(binding of OBS by a piece of complimetary oligonucleotide) produces a TRUE output(red\tregions\tare\taligned\tand\tbound to each other).\n",
    "\n"
   ]
  },
  {
   "cell_type": "code",
   "execution_count": 55,
   "metadata": {},
   "outputs": [
    {
     "name": "stdout",
     "output_type": "stream",
     "text": [
      "\n",
      ">YES-1\n",
      "GGGCGACCCUGAUGAGCUUGAGUUUAGCUCGUCACUGUCCAGGUUCAAUCAGGCGAAACGGUGAAAGCCGUAGGUUGCCC\n",
      "((((((((.(((((((((.......))))))))).((.((.(((...))).))))..(((((....))))).)))))))) (-33.00)\n",
      ">NOT-1\n",
      "GGCAGGUACAUACAGCUGAUGAGUCCCAAAUAGGGACGAACGCGACACACACCACUAAACCGUGCAGUGUUUUGCGUCCUGUAUUCCACUGC\n",
      ".((((....((((((.......(((((.....)))))..((((((.((((..(((......)))..)))).)))))).))))))....)))) (-31.60)\n",
      ">AND-1\n",
      "GGGCGACCCUGAUGAGCUUGGUUUAGUAUUUACAGCUCCAUACUAGAGGUGUUAUCCCUAUGCAAGUUCGAUCAGGCGAAACGGUGAAAGCCGUAGGUUGCCCAGAGACAAU\n",
      "((((((((((((((((((((...(((.....(((.(((.......))).))).....)))..))))))).))))).....(((((....))))).))))))))......... (-42.30)\n",
      ">OR-1\n",
      "GGGCGACCCUGAUGAGCUUGGUUGAGUAUUUACAGCUCCAUACAUGAGGUGUUCUCCCUACGCAAGUUCGAUCAGGCGAAACGGUGAAAGCCGUAGGUUGCCC\n",
      "((((((((((((((((((((((.(((.....(((.(((.......))).))).)))...)).))))))).))))).....(((((....))))).)))))))) (-40.00)\n",
      "\n"
     ]
    }
   ],
   "source": [
    "import subprocess\n",
    "\n",
    "seqs = \\\n",
    "\"\"\">YES-1\n",
    "GGGCGACCCUGAUGAGCUUGAGUUUAGCUCGUCACUGUCCAGGUUCAAUCAGGCGAAACGGUGAAAGCCGUAGGUUGCCC\n",
    ">NOT-1\n",
    "GGCAGGUACAUACAGCUGAUGAGUCCCAAAUAGGGACGAACGCGACACACACCACUAAACCGUGCAGUGUUUUGCGUCCUGUAUUCCACUGC\n",
    ">AND-1\n",
    "GGGCGACCCUGAUGAGCUUGGUUUAGUAUUUACAGCUCCAUACUAGAGGUGUUAUCCCUAUGCAAGUUCGAUCAGGCGAAACGGUGAAAGCCGUAGGUUGCCCAGAGACAAU\n",
    ">OR-1\n",
    "GGGCGACCCUGAUGAGCUUGGUUGAGUAUUUACAGCUCCAUACAUGAGGUGUUCUCCCUACGCAAGUUCGAUCAGGCGAAACGGUGAAAGCCGUAGGUUGCCC\n",
    "\"\"\"\n",
    "p = subprocess.run(['RNAfold'],\n",
    "                     input = bytes(seqs, 'ascii'),\n",
    "                     stdout= subprocess.PIPE,\n",
    "                     stderr= subprocess.PIPE)\n",
    "print(p.stderr.decode())\n",
    "print(p.stdout.decode())"
   ]
  },
  {
   "cell_type": "markdown",
   "metadata": {},
   "source": [
    "# Table for Riboswitch YES-1"
   ]
  },
  {
   "cell_type": "code",
   "execution_count": 48,
   "metadata": {},
   "outputs": [
    {
     "name": "stdout",
     "output_type": "stream",
     "text": [
      "('YES-1', '26, 47', 'N/A', '16, 21', '49, 54', None)\n"
     ]
    }
   ],
   "source": [
    "import sqlite3\n",
    "conn = sqlite3.connect('my.db')\n",
    "c = conn.cursor()\n",
    "\n",
    "#Create YES-1 table\n",
    "c.execute(\"\"\"CREATE TABLE YES1 (name TEXT, \n",
    "                                coordinates_of_OBS_1 TEXT, \n",
    "                                coordinates_of_OBS_2 TEXT, \n",
    "                                coordinates_of_red_region1 TEXT,\n",
    "                                coordinates_of_red_region2 TEXT, \n",
    "                                strand VARCHAR(1))\"\"\")\n",
    "#Insert into YES-1 table\n",
    "c.execute(\"\"\"INSERT INTO YES1 (name,\n",
    "                                coordinates_of_OBS_1,\n",
    "                                coordinates_of_OBS_2,\n",
    "                                coordinates_of_red_region1,\n",
    "                                coordinates_of_red_region2) \n",
    "                        VALUES('YES-1',\n",
    "                        '26, 47',\n",
    "                        'N/A',\n",
    "                        '16, 21',\n",
    "                        '49, 54');\"\"\")\n",
    "\n",
    "conn.commit\n",
    "c.execute(\"SELECT * from YES1;\")\n",
    "print(c.fetchone())\n",
    "\n"
   ]
  },
  {
   "cell_type": "markdown",
   "metadata": {},
   "source": [
    "# Table for Riboswitch NOT-1"
   ]
  },
  {
   "cell_type": "code",
   "execution_count": 49,
   "metadata": {},
   "outputs": [
    {
     "name": "stdout",
     "output_type": "stream",
     "text": [
      "('NOT-1', '44, 66', 'N/A', '40, 43', '74, 77', None)\n"
     ]
    }
   ],
   "source": [
    "#Create NOT-1 table\n",
    "c.execute(\"\"\"CREATE TABLE NOT_1 (name TEXT, \n",
    "                                coordinates_of_OBS_1 TEXT, \n",
    "                                coordinates_of_OBS_2 TEXT, \n",
    "                                coordinates_of_red_region1 TEXT,\n",
    "                                coordinates_of_red_region2 TEXT, \n",
    "                                strand VARCHAR(1))\"\"\")\n",
    "#Insert into NOT-1 table\n",
    "c.execute(\"\"\"INSERT INTO NOT_1 (name,\n",
    "                                coordinates_of_OBS_1,\n",
    "                                coordinates_of_OBS_2,\n",
    "                                coordinates_of_red_region1,\n",
    "                                coordinates_of_red_region2) \n",
    "                        VALUES('NOT-1',\n",
    "                        '44, 66',\n",
    "                        'N/A',\n",
    "                        '40, 43',\n",
    "                        '74, 77');\"\"\")\n",
    "\n",
    "conn.commit\n",
    "c.execute(\"SELECT * from NOT_1;\")\n",
    "print(c.fetchone())\n"
   ]
  },
  {
   "cell_type": "markdown",
   "metadata": {},
   "source": [
    "# Table for Riboswitch AND-1"
   ]
  },
  {
   "cell_type": "code",
   "execution_count": 50,
   "metadata": {},
   "outputs": [
    {
     "name": "stdout",
     "output_type": "stream",
     "text": [
      "('AND-1', '20, 45', '49, 64', '16, 23', '70, 77', None)\n"
     ]
    }
   ],
   "source": [
    "#Create AND-1 table\n",
    "c.execute(\"\"\"CREATE TABLE AND_1 (name TEXT, \n",
    "                                coordinates_of_OBS_1 TEXT, \n",
    "                                coordinates_of_OBS_2 TEXT, \n",
    "                                coordinates_of_red_region1 TEXT,\n",
    "                                coordinates_of_red_region2 TEXT, \n",
    "                                strand VARCHAR(1))\"\"\")\n",
    "#Insert into AND-1 table\n",
    "c.execute(\"\"\"INSERT INTO AND_1 (name,\n",
    "                                coordinates_of_OBS_1,\n",
    "                                coordinates_of_OBS_2,\n",
    "                                coordinates_of_red_region1,\n",
    "                                coordinates_of_red_region2) \n",
    "                        VALUES('AND-1',\n",
    "                        '20, 45',\n",
    "                        '49, 64',\n",
    "                        '16, 23',\n",
    "                        '70, 77');\"\"\")\n",
    "\n",
    "conn.commit\n",
    "c.execute(\"SELECT * from AND_1;\")\n",
    "print(c.fetchone())\n"
   ]
  },
  {
   "cell_type": "markdown",
   "metadata": {},
   "source": [
    "# Table for Riboswitch OR-1"
   ]
  },
  {
   "cell_type": "code",
   "execution_count": 51,
   "metadata": {},
   "outputs": [
    {
     "name": "stdout",
     "output_type": "stream",
     "text": [
      "('OR-1', '27, 46', '47, 66', '16, 26', '67, 77', None)\n"
     ]
    }
   ],
   "source": [
    "#Create OR-1 table\n",
    "c.execute(\"\"\"CREATE TABLE OR1 (name TEXT, \n",
    "                                coordinates_of_OBS_1 TEXT, \n",
    "                                coordinates_of_OBS_2 TEXT, \n",
    "                                coordinates_of_red_region1 TEXT,\n",
    "                                coordinates_of_red_region2 TEXT, \n",
    "                                strand VARCHAR(1))\"\"\")\n",
    "#Insert into OR-1 table\n",
    "c.execute(\"\"\"INSERT INTO OR1 (name,\n",
    "                                coordinates_of_OBS_1,\n",
    "                                coordinates_of_OBS_2,\n",
    "                                coordinates_of_red_region1,\n",
    "                                coordinates_of_red_region2) \n",
    "                        VALUES('OR-1',\n",
    "                        '27, 46',\n",
    "                        '47, 66',\n",
    "                        '16, 26',\n",
    "                        '67, 77');\"\"\")\n",
    "\n",
    "conn.commit\n",
    "c.execute(\"SELECT * from OR1;\")\n",
    "print(c.fetchone())\n"
   ]
  },
  {
   "cell_type": "markdown",
   "metadata": {},
   "source": [
    "# Plot for YES-1\n"
   ]
  },
  {
   "cell_type": "markdown",
   "metadata": {},
   "source": [
    "## Commands ran in terminal:\n",
    "**nano yes-1.rna**\n",
    "#Paste sequence in:\n",
    "**\"GGGCGACCCUGAUGAGCUUGAGUUUAGCUCGUCACUGUCCAGGUUCAAUCAGGCGAAACGGUGAAAGCCGUAGGUUGCCC\"**\n",
    "\n",
    "**cat yes-1.rna | RNAfold**\n",
    " \n",
    "Output:\n",
    "GGGCGACCCUGAUGAGCUUGAGUUUAGCUCGUCACUGUCCAGGUUCAAUCAGGCGAAACGGUGAAAGCCGUAGGUUGCCC\n",
    "((((((((.(((((((((.......))))))))).((.((.(((...))).))))..(((((....))))).)))))))) (-33.00)\n",
    "\n",
    "<img src=\"yes-1.jpg\" width=\"30%\">  \n",
    "\n",
    "Native\tconformation\tgiven\tin\tthe\tpublication:\n",
    "<img src=\"yes1.png\" width=\"30%\">\n"
   ]
  },
  {
   "cell_type": "markdown",
   "metadata": {},
   "source": [
    "### Comparisons of the YES-1 plots\n",
    "The conformation by RNAfold not only has 1 extra stemp loop, it also has stemp loop structures longer and shorter than the native conformation given in the publication. The difference may be due to the parameters used(algorithm):\n",
    "\n",
    "#### Default parameters RNAfold used: \n",
    "37 degree Celsius, **The Minimum free energy (MFE)** and a _structure representative_ are calculated in any case.\n",
    "\n",
    "#### Parameters\tthe\tauthors\tused: \n",
    "37 degree Celsius, **The free energy at 37 degree Celsius of the structure using the partition function** is calculated and the _sequence obtained is folded_.\n"
   ]
  },
  {
   "cell_type": "markdown",
   "metadata": {},
   "source": [
    "# Plot for NOT-1"
   ]
  },
  {
   "cell_type": "markdown",
   "metadata": {},
   "source": [
    "## Commands ran in terminal:\n",
    "**nano not-1.rna**\n",
    "#Paste sequence in:\n",
    "**\"GGCAGGUACAUACAGCUGAUGAGUCCCAAAUAGGGACGAACGCGACACACACCACUAAACCGUGCAGUGUUUUGCGUCCUGUAUUCCACUGC\"**\n",
    "\n",
    "**cat not-1.rna | RNAfold**\n",
    " \n",
    "Output:\n",
    "GGCAGGUACAUACAGCUGAUGAGUCCCAAAUAGGGACGAACGCGACACACACCACUAAACCGUGCAGUGUUUUGCGUCCUGUAUUCCACUGC\n",
    ".((((....((((((.......(((((.....)))))..((((((.((((..(((......)))..)))).)))))).))))))....)))) (-31.60)\n",
    "\n",
    "\n"
   ]
  },
  {
   "cell_type": "markdown",
   "metadata": {},
   "source": [
    "<img src=\"not_1.jpg\" width=\"30%\">\n",
    "\n",
    "Native\tconformation\tgiven\tin\tthe\tpublication:\n",
    "<img src=\"not.png\" width=\"30%\">"
   ]
  },
  {
   "cell_type": "markdown",
   "metadata": {},
   "source": [
    "### Comparisons of the NOT-1 plots\n",
    "The conformation by RNAfold has 3 stem loop structures with a bulge, but in native conformation given in the publication it looks more like an L-shape(2 stemp loops only). It can also be seen that initally, the red regions are aligned. The difference may be due to the parameters used(algorithm):\n",
    "\n",
    "#### Default parameters RNAfold used:\n",
    "37 degree Celsius, The Minimum free energy (MFE) and a structure representative are calculated in any case.\n",
    "\n",
    "#### Parameters the authors used:\n",
    "37 degree Celsius, The free energy at 37 degree Celsius of the structure using the partition function is calculated and the sequence obtained is folded."
   ]
  },
  {
   "cell_type": "markdown",
   "metadata": {},
   "source": [
    "# Plot for AND-1"
   ]
  },
  {
   "cell_type": "markdown",
   "metadata": {},
   "source": [
    "## Commands ran in terminal:\n",
    "**nano and-1.rna**\n",
    "#Paste sequence in:\n",
    "**\"GGGCGACCCUGAUGAGCUUGGUUUAGUAUUUACAGCUCCAUACUAGAGGUGUUAUCCCUAUGCAAGUUCGAUCAGGCGAAACGGUGAAAGCCGUAGGUUGCCCAGAGACAAU\"**\n",
    "\n",
    "**cat and-1.rna | RNAfold**\n",
    " \n",
    "Output:\n",
    "GGGCGACCCUGAUGAGCUUGGUUUAGUAUUUACAGCUCCAUACUAGAGGUGUUAUCCCUAUGCAAGUUCGAUCAGGCGAAACGGUGAAAGCCGUAGGUUGCCCAGAGACAAU\n",
    "((((((((((((((((((((...(((.....(((.(((.......))).))).....)))..))))))).))))).....(((((....))))).))))))))......... (-42.30)\n",
    "\n",
    "<img src=\"and-1.jpg\" width=\"30%\">\n",
    "\n",
    "Native conformation given in the publication:\n",
    "<img src=\"and.png\" width=\"30%\">\n"
   ]
  },
  {
   "cell_type": "markdown",
   "metadata": {},
   "source": [
    "#### Comparisons of the AND-1 plots\n",
    "The two plot matches."
   ]
  },
  {
   "cell_type": "markdown",
   "metadata": {},
   "source": [
    "# Plot for OR-1"
   ]
  },
  {
   "cell_type": "markdown",
   "metadata": {},
   "source": [
    "## Commands ran in terminal:\n",
    "**nano or-1.rna**\n",
    "#Paste sequence in:\n",
    "**\"GGGCGACCCUGAUGAGCUUGGUUUAGUAUUUACAGCUCCAUACUAGAGGUGUUAUCCCUAUGCAAGUUCGAUCAGGCGAAACGGUGAAAGCCGUAGGUUGCCCAGAGACAAU\"**\n",
    "\n",
    "**cat or-1.rna | RNAfold**\n",
    " \n",
    "Output:\n",
    "GGGCGACCCUGAUGAGCUUGGUUGAGUAUUUACAGCUCCAUACAUGAGGUGUUCUCCCUACGCAAGUUCGAUCAGGCGAAACGGUGAAAGCCGUAGGUUGCCC\n",
    "((((((((((((((((((((((.(((.....(((.(((.......))).))).)))...)).))))))).))))).....(((((....))))).)))))))) (-40.00)\n",
    "\n",
    "<img src=\"or-1.jpg\" width=\"30%\">\n",
    "\n",
    "Native conformation given in the publication:\n",
    "<img src=\"or.png\" width=\"30%\">\n"
   ]
  },
  {
   "cell_type": "markdown",
   "metadata": {},
   "source": [
    "### Comparisons of the OR-1 plots\n",
    "The two plot matches."
   ]
  },
  {
   "cell_type": "markdown",
   "metadata": {},
   "source": [
    "# Simulate OBS binding in YES-1"
   ]
  },
  {
   "cell_type": "markdown",
   "metadata": {},
   "source": [
    "## Commands ran in terminal:\n",
    "**RNAfold -C YES-1_contraints.txt**\n",
    "\n",
    "Output on terminal:\n",
    "GGGCGACCCUGAUGAGCUUGAGUUUAGCUCGUCACUGUCCAGGUUCAAUCAGGCGAAACGGUGAAAGCCGUAGGUUGCCC\n",
    "((((((((.......((((((...........................))))))...(((((....))))).)))))))) (-24.50)\n",
    "\n",
    "<img src=\"yes-1_ss.jpg\" width=\"30%\">\n",
    "\n",
    "Native conformation given of the OBS binding in the publication:\n",
    "<img src=\"yesobs.png\" width=\"30%\">"
   ]
  },
  {
   "cell_type": "markdown",
   "metadata": {},
   "source": [
    "### Comparisons of the OBS binding of the YES-1 plots\n",
    "The two structure matches. In the RNAfold structure, the largest loop will bind complementary to the effector DNA sequence aligning the red\tregions and\t make them bound to each other,\tproducing a TRUE output, which causes **self-cleavage** of the ribozyme."
   ]
  },
  {
   "cell_type": "markdown",
   "metadata": {},
   "source": [
    "# Simulate OBS binding in NOT-1"
   ]
  },
  {
   "cell_type": "markdown",
   "metadata": {},
   "source": [
    "## Commands ran in terminal:\n",
    "**RNAfold -C NOT-1_contraints.txt **\n",
    "\n",
    "Output on terminal:\n",
    "GGCAGGUACAUACAGCUGAUGAGUCCCAAAUAGGGACGAACGCGACACACACCACUAAACCGUGCAGUGUUUUGCGUCCUGUAUUCCACUGC\n",
    ".((((....((((((..((((.(((((.....)))))((((((.......................))))))..))))))))))....)))) (-23.20)\n",
    "\n",
    "<img src=\"not1_ss.jpg\" width=\"30%\">\n",
    "\n",
    "Native conformation given of the OBS binding in the publication:\n",
    "<img src=\"notobs.png\" width=\"30%\">\n",
    "\n"
   ]
  },
  {
   "cell_type": "markdown",
   "metadata": {},
   "source": [
    "### Comparisons of the OBS binding of the NOT-1 plots\n",
    "The two structure matches. In the RNAfold structure, the largest loop will bind complementary to the effector DNA sequence causing the initially aligned and bound red regions to separate from each other. This prevents self-cleavage to happen and produces a FALSE output for a TRUE input."
   ]
  },
  {
   "cell_type": "markdown",
   "metadata": {},
   "source": [
    "# Simulate OBS binding in AND-1"
   ]
  },
  {
   "cell_type": "markdown",
   "metadata": {},
   "source": [
    "## Commands ran in terminal:\n",
    "**RNAfold -C AND-1_contraints1.txt**\n",
    "\n",
    "Output on terminal: GGGCGACCCUGAUGAGCUUGGUUUAGUAUUUACAGCUCCAUACUAGAGGUGUUAUCCCUAUGCAAGUUCGAUCAGGCGAAACGGUGAAAGCCGUAGGUUGCCCAGAGACAAU\n",
    "((((((((((((((((((((..........................(((.(....))))...))))))).))))).....(((((....))))).))))))))......... (-33.90)\n",
    "<img src=\"AND-1_contraints1.jpg\" width=\"30%\">\n",
    "<img src=\"andobs.png\" width=\"60%\">\n",
    "\n",
    "\n",
    "**RNAfold -C AND-1_contraints2.txt**\n",
    "\n",
    "Output on terminal:\n",
    "GGGCGACCCUGAUGAGCUUGGUUUAGUAUUUACAGCUCCAUACUAGAGGUGUUAUCCCUAUGCAAGUUCGAUCAGGCGAAACGGUGAAAGCCGUAGGUUGCCCAGAGACAAU\n",
    "((((((((((((((((((...((((((((..........)))))))).................))))).))))).....(((((....))))).))))))))......... (-32.40)\n",
    "<img src=\"AND-1_contraints2.jpg\" width=\"30%\">\n",
    "<img src=\"andobs.png\" width=\"60%\">\n",
    "\n",
    "\n",
    "**RNAfold -C AND-1_contraints3.txt**\n",
    "\n",
    "Output on terminal: GGGCGACCCUGAUGAGCUUGGUUUAGUAUUUACAGCUCCAUACUAGAGGUGUUAUCCCUAUGCAAGUUCGAUCAGGCGAAACGGUGAAAGCCGUAGGUUGCCCAGAGACAAU\n",
    "((((((((((((((((((..............................................))))).))))).....(((((....))))).))))))))......... (-27.64)\n",
    "<img src=\"AND-1_contraints3.jpg\" width=\"30%\">\n",
    "<img src=\"andobs.png\" width=\"60%\">\n",
    "\n"
   ]
  },
  {
   "cell_type": "markdown",
   "metadata": {},
   "source": [
    "#### Comparisons of the OBS binding of the AND-1 plots\n",
    "None of the structure matches. But at least in the binding of both OBS regions by DNA effector molecules, the red regions aligned which causes cleavage of the ribozyme(output of TRUE) when both inputs are TRUE.\n",
    "\n",
    "According to my result, the OR-1 gate did work as claimed in the paper, although the structures formed when 1 OBS is bound in the paper may not be correct."
   ]
  },
  {
   "cell_type": "markdown",
   "metadata": {},
   "source": [
    "# Simulate OBS binding in OR-1"
   ]
  },
  {
   "cell_type": "markdown",
   "metadata": {},
   "source": [
    "## Commands ran in terminal:\n",
    "**RNAfold -C OR-1_contraints1.txt**\n",
    "\n",
    "Output on terminal:\n",
    "GGGCGACCCUGAUGAGCUUGGUUGAGUAUUUACAGCUCCAUACAUGAGGUGUUCUCCCUACGCAAGUUCGAUCAGGCGAAACGGUGAAAGCCGUAGGUUGCCC\n",
    "((((((((((((((((((((((.(((...........................)))...)).))))))).))))).....(((((....))))).)))))))) (-34.20)\n",
    "<img src=\"OR-1_contraints1.jpg\" width=\"30%\">\n",
    "<img src=\"orobs.png\" width=\"60%\">\n",
    "\n",
    "**RNAfold -C OR-1_contraints2.txt**\n",
    "\n",
    "Output on terminal:\n",
    "GGGCGACCCUGAUGAGCUUGGUUGAGUAUUUACAGCUCCAUACAUGAGGUGUUCUCCCUACGCAAGUUCGAUCAGGCGAAACGGUGAAAGCCGUAGGUUGCCC\n",
    "((((((((.......(((((((((((........................................)))))))))))...(((((....))))).)))))))) (-29.09)\n",
    "<img src=\"OR-1_contraints2.jpg\" width=\"30%\">\n",
    "<img src=\"orobs.png\" width=\"60%\">\n",
    "\n",
    "**RNAfold -C OR-1_contraints3.txt**\n",
    "\n",
    "Output on terminal:\n",
    "GGGCGACCCUGAUGAGCUUGGUUGAGUAUUUACAGCUCCAUACAUGAGGUGUUCUCCCUACGCAAGUUCGAUCAGGCGAAACGGUGAAAGCCGUAGGUUGCCC\n",
    "((((((((.......(((((((((((........................................)))))))))))...(((((....))))).)))))))) (-29.09)\n",
    "<img src=\"OR-1_contraints3.jpg\" width=\"30%\">\n",
    "<img src=\"test1/orobs.png\" width=\"60%\">\n"
   ]
  },
  {
   "cell_type": "markdown",
   "metadata": {},
   "source": [
    "### Comparisons of the OBS binding of the OR-1 plots\n",
    "All structures match except for OBS binding to OBS 1 only. The structure formed in OBS 2 binding is exactly the same with the structure formed in DNA effector binding to both of the OBS sites. This may be due to the 2 constraints has the lower energy and RNAfold involves calculating Minimum free energy (MFE), which is the extimated energy released by having two TRUE inputs. \n",
    "\n",
    "In the second and third RNAfold structure, the largest loop will bind complementary to the effector DNA sequence causing the initially unaligned and unbound red regions to aligned with each other. This causes self-cleavage to happen and produces a TRUE output. \n",
    "\n",
    "According to my result, the OR-1 gate did not work as claimed in the paper."
   ]
  },
  {
   "cell_type": "code",
   "execution_count": null,
   "metadata": {},
   "outputs": [],
   "source": []
  },
  {
   "cell_type": "code",
   "execution_count": null,
   "metadata": {},
   "outputs": [],
   "source": []
  },
  {
   "cell_type": "code",
   "execution_count": null,
   "metadata": {},
   "outputs": [],
   "source": []
  }
 ],
 "metadata": {
  "kernelspec": {
   "display_name": "Python 3",
   "language": "python",
   "name": "python3"
  },
  "language_info": {
   "codemirror_mode": {
    "name": "ipython",
    "version": 3
   },
   "file_extension": ".py",
   "mimetype": "text/x-python",
   "name": "python",
   "nbconvert_exporter": "python",
   "pygments_lexer": "ipython3",
   "version": "3.6.5"
  }
 },
 "nbformat": 4,
 "nbformat_minor": 2
}
